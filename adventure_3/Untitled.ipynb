{
 "cells": [
  {
   "cell_type": "code",
   "execution_count": 8,
   "metadata": {
    "collapsed": false
   },
   "outputs": [
    {
     "name": "stdout",
     "output_type": "stream",
     "text": [
      "\n",
      "Pinging 131.253.34.255 with 32 bytes of data:\n",
      "Request timed out.\n",
      "Request timed out.\n",
      "Request timed out.\n",
      "Request timed out.\n",
      "\n",
      "Ping statistics for 131.253.34.255:\n",
      "    Packets: Sent = 4, Received = 0, Lost = 4 (100% loss),\n"
     ]
    }
   ],
   "source": [
    "!ping 131.253.34.255"
   ]
  },
  {
   "cell_type": "code",
   "execution_count": 9,
   "metadata": {
    "collapsed": false
   },
   "outputs": [
    {
     "name": "stdout",
     "output_type": "stream",
     "text": [
      "\n",
      "Pinging 75.18.203.176 with 32 bytes of data:\n",
      "Request timed out.\n",
      "Request timed out.\n",
      "Request timed out.\n",
      "Request timed out.\n",
      "\n",
      "Ping statistics for 75.18.203.176:\n",
      "    Packets: Sent = 4, Received = 0, Lost = 4 (100% loss),\n"
     ]
    }
   ],
   "source": [
    "!ping 75.18.203.176"
   ]
  },
  {
   "cell_type": "code",
   "execution_count": 12,
   "metadata": {
    "collapsed": false
   },
   "outputs": [
    {
     "name": "stdout",
     "output_type": "stream",
     "text": [
      "\n",
      "Pinging google.com [74.125.224.9] with 32 bytes of data:\n",
      "Reply from 74.125.224.9: bytes=32 time=59ms TTL=56\n",
      "Reply from 74.125.224.9: bytes=32 time=67ms TTL=56\n",
      "Reply from 74.125.224.9: bytes=32 time=57ms TTL=56\n",
      "Reply from 74.125.224.9: bytes=32 time=59ms TTL=56\n",
      "\n",
      "Ping statistics for 74.125.224.9:\n",
      "    Packets: Sent = 4, Received = 4, Lost = 0 (0% loss),\n",
      "Approximate round trip times in milli-seconds:\n",
      "    Minimum = 57ms, Maximum = 67ms, Average = 60ms\n"
     ]
    }
   ],
   "source": [
    "!ping google.com"
   ]
  },
  {
   "cell_type": "code",
   "execution_count": 1,
   "metadata": {
    "collapsed": false
   },
   "outputs": [
    {
     "name": "stdout",
     "output_type": "stream",
     "text": [
      "Wed 07/22/2015 \n"
     ]
    }
   ],
   "source": [
    "!date /t"
   ]
  },
  {
   "cell_type": "code",
   "execution_count": 2,
   "metadata": {
    "collapsed": false
   },
   "outputs": [
    {
     "name": "stdout",
     "output_type": "stream",
     "text": [
      " Volume in drive C is Windows\n",
      " Volume Serial Number is BC78-8836\n",
      "\n",
      " Directory of C:\\Users\\mkennedy\\OneDrive\\Projects\\python\\adventures in python\\adventure 3\n",
      "\n",
      "07/21/2015  07:00 AM    <DIR>          .\n",
      "07/21/2015  07:00 AM    <DIR>          ..\n",
      "07/19/2015  08:15 AM    <DIR>          .ipynb_checkpoints\n",
      "07/19/2015  08:41 AM               331 backwards.py\n",
      "07/19/2015  08:41 AM               605 backwards.pyc\n",
      "07/15/2015  07:27 AM               219 button.py\n",
      "07/19/2015  08:15 AM               471 button.pyc\n",
      "07/19/2015  08:18 AM               242 buttonCount.py\n",
      "07/19/2015  08:19 AM               511 buttonCount.pyc\n",
      "07/19/2015  08:36 AM               298 double.py\n",
      "07/19/2015  08:36 AM               540 double.pyc\n",
      "07/19/2015  12:47 PM               564 password.py\n",
      "07/19/2015  01:18 PM               828 randomSentences.py\n",
      "07/19/2015  08:24 AM               483 twoButtons.py\n",
      "07/19/2015  08:24 AM               796 twoButtons.pyc\n",
      "07/19/2015  08:23 AM    <DIR>          twoButtons.pygm6oh8\n",
      "07/21/2015  07:00 AM             2,848 Untitled.ipynb\n",
      "              13 File(s)          8,736 bytes\n",
      "               4 Dir(s)  81,817,935,872 bytes free\n"
     ]
    }
   ],
   "source": [
    "!dir"
   ]
  },
  {
   "cell_type": "code",
   "execution_count": null,
   "metadata": {
    "collapsed": true
   },
   "outputs": [],
   "source": []
  }
 ],
 "metadata": {
  "kernelspec": {
   "display_name": "Python 2",
   "language": "python",
   "name": "python2"
  },
  "language_info": {
   "codemirror_mode": {
    "name": "ipython",
    "version": 2
   },
   "file_extension": ".py",
   "mimetype": "text/x-python",
   "name": "python",
   "nbconvert_exporter": "python",
   "pygments_lexer": "ipython2",
   "version": "2.7.6"
  }
 },
 "nbformat": 4,
 "nbformat_minor": 0
}
